{
 "cells": [
  {
   "cell_type": "code",
   "execution_count": 111,
   "id": "a8d50ffe",
   "metadata": {},
   "outputs": [],
   "source": [
    "import json\n",
    "import pandas as pd"
   ]
  },
  {
   "cell_type": "code",
   "execution_count": 201,
   "id": "50e24d06",
   "metadata": {},
   "outputs": [
    {
     "name": "stdout",
     "output_type": "stream",
     "text": [
      "   Gender  HeightCm  WeightKg  HeighM        BMI       BMICategory  \\\n",
      "0    Male       171        96    1.71  32.830615  Moderately obese   \n",
      "1    Male       161        85    1.61  32.791945  Moderately obese   \n",
      "2    Male       180        77    1.80  23.765432     Normal weight   \n",
      "3  Female       166        62    1.66  22.499637     Normal weight   \n",
      "4  Female       150        70    1.50  31.111111  Moderately obese   \n",
      "5  Female       167        82    1.67  29.402273        Overweight   \n",
      "6    Male       143        56    1.43  27.385202        Overweight   \n",
      "7    Male       157        45    1.57  18.256319       Underweight   \n",
      "8  Female       158        89    1.58  35.651338    Severely obese   \n",
      "9  Female       159        72    1.59  28.479886        Overweight   \n",
      "\n",
      "             BMIRisk  \n",
      "0        Medium risk  \n",
      "1        Medium risk  \n",
      "2           Low risk  \n",
      "3           Low risk  \n",
      "4        Medium risk  \n",
      "5      Enhanced risk  \n",
      "6      Enhanced risk  \n",
      "7  Malnutrition risk  \n",
      "8          High risk  \n",
      "9      Enhanced risk  \n",
      "Number of Overwight Person   =3\n"
     ]
    }
   ],
   "source": [
    "def BMICategoryRisk(bmi):\n",
    "    if bmi <= 18.4:\n",
    "        category = 'Underweight'\n",
    "        healthRisk = 'Malnutrition risk'\n",
    "    elif bmi >= 18.5  and bmi <= 24.9:\n",
    "        category = 'Normal weight'\n",
    "        healthRisk = 'Low risk'\n",
    "    elif bmi >= 25  and bmi <= 29.9:\n",
    "        category = 'Overweight'\n",
    "        healthRisk = 'Enhanced risk'\n",
    "    elif bmi >= 30  and bmi <= 34.9:\n",
    "        category = 'Moderately obese'\n",
    "        healthRisk = 'Medium risk'\n",
    "    elif bmi >= 35  and bmi <= 39.9:\n",
    "        category = 'Severely obese'\n",
    "        healthRisk = 'High risk'   \n",
    "    elif bmi >= 40:\n",
    "        category = 'Very severely obese'\n",
    "        healthRisk = 'Very High risk'    \n",
    "    else:\n",
    "        category = 'Not Defined'\n",
    "        healthRisk = 'Not Defined'        \n",
    "    \n",
    "    return pd.Series([category, healthRisk])\n",
    "\n",
    "df1 = pd.read_json(\"C:/Users/n421492/BA Tickets/bmidataset.json\", orient ='records')\n",
    "df1['HeighM'] = df1.HeightCm*0.01\n",
    "df1['BMI'] = df1.WeightKg  / (df1.HeighM ** 2)\n",
    "df1[['BMICategory','BMIRisk']] = df1['BMI'].apply(BMICategoryRisk)\n",
    "print(df1)\n",
    "\n",
    "noOfOverweightPerson = df1[df1.BMICategory == 'Overweight'].shape[0]\n",
    "print('Number of Overwight Person   =' + str(noOfOverweightPerson))"
   ]
  },
  {
   "cell_type": "code",
   "execution_count": null,
   "id": "9a0e4020",
   "metadata": {},
   "outputs": [],
   "source": []
  },
  {
   "cell_type": "code",
   "execution_count": null,
   "id": "3b324fba",
   "metadata": {},
   "outputs": [],
   "source": []
  },
  {
   "cell_type": "code",
   "execution_count": null,
   "id": "c93797ef",
   "metadata": {},
   "outputs": [],
   "source": []
  }
 ],
 "metadata": {
  "kernelspec": {
   "display_name": "Python 3 (ipykernel)",
   "language": "python",
   "name": "python3"
  },
  "language_info": {
   "codemirror_mode": {
    "name": "ipython",
    "version": 3
   },
   "file_extension": ".py",
   "mimetype": "text/x-python",
   "name": "python",
   "nbconvert_exporter": "python",
   "pygments_lexer": "ipython3",
   "version": "3.9.7"
  }
 },
 "nbformat": 4,
 "nbformat_minor": 5
}
